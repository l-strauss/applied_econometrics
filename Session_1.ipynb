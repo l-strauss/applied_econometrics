{
  "nbformat": 4,
  "nbformat_minor": 0,
  "metadata": {
    "colab": {
      "name": "Session 1.ipynb",
      "provenance": [],
      "mount_file_id": "1U-ZeoOtvCWEaIwUrZxaKj7AK6x9YDG7C",
      "authorship_tag": "ABX9TyOyYEkhssy8oP1NVUlOtpJF",
      "include_colab_link": true
    },
    "kernelspec": {
      "name": "python3",
      "display_name": "Python 3"
    }
  },
  "cells": [
    {
      "cell_type": "markdown",
      "metadata": {
        "id": "view-in-github",
        "colab_type": "text"
      },
      "source": [
        "<a href=\"https://colab.research.google.com/github/l-strauss/applied_econometrics/blob/master/Session_1.ipynb\" target=\"_parent\"><img src=\"https://colab.research.google.com/assets/colab-badge.svg\" alt=\"Open In Colab\"/></a>"
      ]
    },
    {
      "cell_type": "code",
      "metadata": {
        "id": "8vWRtKc5fC-_",
        "colab_type": "code",
        "colab": {}
      },
      "source": [
        "import pandas as pd\n",
        "import numpy as np\n",
        "import statsmodels.api as sm\n",
        "import seaborn as sns"
      ],
      "execution_count": 82,
      "outputs": []
    },
    {
      "cell_type": "code",
      "metadata": {
        "id": "sXVf1X7HfLEq",
        "colab_type": "code",
        "colab": {
          "base_uri": "https://localhost:8080/",
          "height": 54
        },
        "outputId": "060ba651-45dd-4ddf-82b1-4214d69a8f13"
      },
      "source": [
        "from google.colab import drive\n",
        "drive.mount('/gdrive')\n",
        "%cd /gdrive"
      ],
      "execution_count": 7,
      "outputs": [
        {
          "output_type": "stream",
          "text": [
            "Drive already mounted at /gdrive; to attempt to forcibly remount, call drive.mount(\"/gdrive\", force_remount=True).\n",
            "/gdrive\n"
          ],
          "name": "stdout"
        }
      ]
    },
    {
      "cell_type": "code",
      "metadata": {
        "id": "WMjRERCbfM1s",
        "colab_type": "code",
        "colab": {}
      },
      "source": [
        "data = pd.read_excel(\"/gdrive/My Drive/courses/01 applied econometrics/Session1data.xlsx\")"
      ],
      "execution_count": 11,
      "outputs": []
    },
    {
      "cell_type": "code",
      "metadata": {
        "id": "uj-yArtVfvDb",
        "colab_type": "code",
        "colab": {
          "base_uri": "https://localhost:8080/",
          "height": 206
        },
        "outputId": "52dc846c-41f5-4911-c27a-eced8016d262"
      },
      "source": [
        "data.head()"
      ],
      "execution_count": 12,
      "outputs": [
        {
          "output_type": "execute_result",
          "data": {
            "text/html": [
              "<div>\n",
              "<style scoped>\n",
              "    .dataframe tbody tr th:only-of-type {\n",
              "        vertical-align: middle;\n",
              "    }\n",
              "\n",
              "    .dataframe tbody tr th {\n",
              "        vertical-align: top;\n",
              "    }\n",
              "\n",
              "    .dataframe thead th {\n",
              "        text-align: right;\n",
              "    }\n",
              "</style>\n",
              "<table border=\"1\" class=\"dataframe\">\n",
              "  <thead>\n",
              "    <tr style=\"text-align: right;\">\n",
              "      <th></th>\n",
              "      <th>y</th>\n",
              "      <th>x1</th>\n",
              "      <th>x2</th>\n",
              "      <th>x3</th>\n",
              "      <th>x4</th>\n",
              "      <th>D</th>\n",
              "      <th>industry</th>\n",
              "    </tr>\n",
              "  </thead>\n",
              "  <tbody>\n",
              "    <tr>\n",
              "      <th>0</th>\n",
              "      <td>0.333300</td>\n",
              "      <td>-0.427537</td>\n",
              "      <td>1.404644</td>\n",
              "      <td>0.228252</td>\n",
              "      <td>7.699256</td>\n",
              "      <td>1</td>\n",
              "      <td>3</td>\n",
              "    </tr>\n",
              "    <tr>\n",
              "      <th>1</th>\n",
              "      <td>0.333300</td>\n",
              "      <td>-0.378606</td>\n",
              "      <td>2.078056</td>\n",
              "      <td>0.547909</td>\n",
              "      <td>7.685352</td>\n",
              "      <td>1</td>\n",
              "      <td>3</td>\n",
              "    </tr>\n",
              "    <tr>\n",
              "      <th>2</th>\n",
              "      <td>0.500000</td>\n",
              "      <td>-0.380571</td>\n",
              "      <td>1.693249</td>\n",
              "      <td>1.432685</td>\n",
              "      <td>7.831940</td>\n",
              "      <td>1</td>\n",
              "      <td>3</td>\n",
              "    </tr>\n",
              "    <tr>\n",
              "      <th>3</th>\n",
              "      <td>1.631102</td>\n",
              "      <td>1.144413</td>\n",
              "      <td>1.693249</td>\n",
              "      <td>1.432685</td>\n",
              "      <td>7.798871</td>\n",
              "      <td>1</td>\n",
              "      <td>3</td>\n",
              "    </tr>\n",
              "    <tr>\n",
              "      <th>4</th>\n",
              "      <td>1.631102</td>\n",
              "      <td>1.761567</td>\n",
              "      <td>1.212240</td>\n",
              "      <td>1.432685</td>\n",
              "      <td>7.599331</td>\n",
              "      <td>1</td>\n",
              "      <td>3</td>\n",
              "    </tr>\n",
              "  </tbody>\n",
              "</table>\n",
              "</div>"
            ],
            "text/plain": [
              "          y        x1        x2        x3        x4  D  industry\n",
              "0  0.333300 -0.427537  1.404644  0.228252  7.699256  1         3\n",
              "1  0.333300 -0.378606  2.078056  0.547909  7.685352  1         3\n",
              "2  0.500000 -0.380571  1.693249  1.432685  7.831940  1         3\n",
              "3  1.631102  1.144413  1.693249  1.432685  7.798871  1         3\n",
              "4  1.631102  1.761567  1.212240  1.432685  7.599331  1         3"
            ]
          },
          "metadata": {
            "tags": []
          },
          "execution_count": 12
        }
      ]
    },
    {
      "cell_type": "markdown",
      "metadata": {
        "id": "f2EwzYO-kVFU",
        "colab_type": "text"
      },
      "source": [
        "**1.**"
      ]
    },
    {
      "cell_type": "markdown",
      "metadata": {
        "id": "GflpNtOAB0uk",
        "colab_type": "text"
      },
      "source": [
        "T-Test"
      ]
    },
    {
      "cell_type": "code",
      "metadata": {
        "id": "q-HnG4x3gFYZ",
        "colab_type": "code",
        "colab": {
          "base_uri": "https://localhost:8080/",
          "height": 91
        },
        "outputId": "bd8c2e95-f66b-4763-d138-a9cb1e198e6e"
      },
      "source": [
        "print(\"D0 mean =\", data[data.D == 0].y.mean())\n",
        "print(\"D1 mean =\", data[data.D == 1].y.mean())\n",
        "print(\"Difference in means =\", data[data.D == 1].y.mean() - data[data.D == 0].y.mean() )\n",
        "stats.ttest_ind(data[data.D == 1].y, data[data.D == 0].y)"
      ],
      "execution_count": 13,
      "outputs": [
        {
          "output_type": "stream",
          "text": [
            "D0 mean = 0.7652317881584167\n",
            "D1 mean = 0.8453013285805907\n",
            "Difference in means = 0.08006954042217396\n"
          ],
          "name": "stdout"
        },
        {
          "output_type": "execute_result",
          "data": {
            "text/plain": [
              "Ttest_indResult(statistic=1.959921328346651, pvalue=0.05122323616289748)"
            ]
          },
          "metadata": {
            "tags": []
          },
          "execution_count": 13
        }
      ]
    },
    {
      "cell_type": "markdown",
      "metadata": {
        "id": "VeBSF9VCkPfM",
        "colab_type": "text"
      },
      "source": [
        "Regression"
      ]
    },
    {
      "cell_type": "code",
      "metadata": {
        "id": "cSUeX60fgyLn",
        "colab_type": "code",
        "colab": {
          "base_uri": "https://localhost:8080/",
          "height": 479
        },
        "outputId": "60e8526d-cecd-46b9-f714-fb99d6b3b4f2"
      },
      "source": [
        "X = data.D\n",
        "X = sm.add_constant(X)\n",
        "y = data.y\n",
        "model = sm.OLS(y,X)\n",
        "results = model.fit()\n",
        "print(results.summary())"
      ],
      "execution_count": 70,
      "outputs": [
        {
          "output_type": "stream",
          "text": [
            "                            OLS Regression Results                            \n",
            "==============================================================================\n",
            "Dep. Variable:                      y   R-squared:                       0.017\n",
            "Model:                            OLS   Adj. R-squared:                  0.012\n",
            "Method:                 Least Squares   F-statistic:                     3.841\n",
            "Date:                Mon, 06 Jul 2020   Prob (F-statistic):             0.0512\n",
            "Time:                        10:23:55   Log-Likelihood:                -43.960\n",
            "No. Observations:                 230   AIC:                             91.92\n",
            "Df Residuals:                     228   BIC:                             98.80\n",
            "Df Model:                           1                                         \n",
            "Covariance Type:            nonrobust                                         \n",
            "==============================================================================\n",
            "                 coef    std err          t      P>|t|      [0.025      0.975]\n",
            "------------------------------------------------------------------------------\n",
            "const          0.7652      0.024     31.961      0.000       0.718       0.812\n",
            "D              0.0801      0.041      1.960      0.051      -0.000       0.161\n",
            "==============================================================================\n",
            "Omnibus:                       30.813   Durbin-Watson:                   0.811\n",
            "Prob(Omnibus):                  0.000   Jarque-Bera (JB):               40.747\n",
            "Skew:                           0.872   Prob(JB):                     1.42e-09\n",
            "Kurtosis:                       4.100   Cond. No.                         2.42\n",
            "==============================================================================\n",
            "\n",
            "Warnings:\n",
            "[1] Standard Errors assume that the covariance matrix of the errors is correctly specified.\n"
          ],
          "name": "stdout"
        }
      ]
    },
    {
      "cell_type": "code",
      "metadata": {
        "id": "kaehLmJpj0oh",
        "colab_type": "code",
        "colab": {
          "base_uri": "https://localhost:8080/",
          "height": 72
        },
        "outputId": "95837522-9db5-4bbf-96f8-3ee344989689"
      },
      "source": [
        "#Covariance between y and D\n",
        "cov = np.sum((data.y - data.y.mean())*(data.D - data.D.mean()))/len(data.y)\n",
        "#Variance of D\n",
        "var = np.sum((data.D - data.D.mean())**2)/len(data.D)\n",
        "print(\"Covariance:\", cov)\n",
        "print(\"Variance:\", var)\n",
        "print(\"Covariance between Y and D over the variance of D:\", cov / var)"
      ],
      "execution_count": 15,
      "outputs": [
        {
          "output_type": "stream",
          "text": [
            "Covariance: 0.01805575704529515\n",
            "Variance: 0.2255009451795841\n",
            "Covariance between Y and D over the variance of D: 0.080069540422174\n"
          ],
          "name": "stdout"
        }
      ]
    },
    {
      "cell_type": "markdown",
      "metadata": {
        "id": "18cmD80jCxkP",
        "colab_type": "text"
      },
      "source": [
        "---"
      ]
    },
    {
      "cell_type": "markdown",
      "metadata": {
        "id": "v_gm9WTgCCpA",
        "colab_type": "text"
      },
      "source": [
        "**2.**"
      ]
    },
    {
      "cell_type": "markdown",
      "metadata": {
        "id": "hZLe5X0MCFz2",
        "colab_type": "text"
      },
      "source": [
        "Regression with D and X1-4 as independent variables"
      ]
    },
    {
      "cell_type": "code",
      "metadata": {
        "id": "FwQcqDcsoyA0",
        "colab_type": "code",
        "colab": {
          "base_uri": "https://localhost:8080/",
          "height": 553
        },
        "outputId": "35d53d58-2233-4b56-e397-222eb79cfee6"
      },
      "source": [
        "X2 = data[['D', 'x1', 'x2', 'x3', 'x4']]\n",
        "X2 = sm.add_constant(X2)\n",
        "y = data.y\n",
        "model = sm.OLS(y,X2)\n",
        "results = model.fit()\n",
        "print(results.summary())"
      ],
      "execution_count": 16,
      "outputs": [
        {
          "output_type": "stream",
          "text": [
            "                            OLS Regression Results                            \n",
            "==============================================================================\n",
            "Dep. Variable:                      y   R-squared:                       0.249\n",
            "Model:                            OLS   Adj. R-squared:                  0.232\n",
            "Method:                 Least Squares   F-statistic:                     14.86\n",
            "Date:                Mon, 06 Jul 2020   Prob (F-statistic):           1.37e-12\n",
            "Time:                        09:21:08   Log-Likelihood:                -12.943\n",
            "No. Observations:                 230   AIC:                             37.89\n",
            "Df Residuals:                     224   BIC:                             58.51\n",
            "Df Model:                           5                                         \n",
            "Covariance Type:            nonrobust                                         \n",
            "==============================================================================\n",
            "                 coef    std err          t      P>|t|      [0.025      0.975]\n",
            "------------------------------------------------------------------------------\n",
            "const          0.0133      0.121      0.110      0.913      -0.226       0.253\n",
            "D              0.0697      0.037      1.907      0.058      -0.002       0.142\n",
            "x1             0.0851      0.020      4.350      0.000       0.047       0.124\n",
            "x2            -0.0053      0.021     -0.254      0.800      -0.046       0.036\n",
            "x3             0.0667      0.017      3.923      0.000       0.033       0.100\n",
            "x4             0.1058      0.018      5.793      0.000       0.070       0.142\n",
            "==============================================================================\n",
            "Omnibus:                        2.375   Durbin-Watson:                   0.870\n",
            "Prob(Omnibus):                  0.305   Jarque-Bera (JB):                2.342\n",
            "Skew:                           0.043   Prob(JB):                        0.310\n",
            "Kurtosis:                       3.487   Cond. No.                         54.7\n",
            "==============================================================================\n",
            "\n",
            "Warnings:\n",
            "[1] Standard Errors assume that the covariance matrix of the errors is correctly specified.\n"
          ],
          "name": "stdout"
        }
      ]
    },
    {
      "cell_type": "markdown",
      "metadata": {
        "id": "zdutWe4SCvXY",
        "colab_type": "text"
      },
      "source": [
        "---"
      ]
    },
    {
      "cell_type": "markdown",
      "metadata": {
        "id": "lDkuJ7STfes4",
        "colab_type": "text"
      },
      "source": [
        "**2.i.**"
      ]
    },
    {
      "cell_type": "code",
      "metadata": {
        "id": "Lo6j3oVLsXM3",
        "colab_type": "code",
        "colab": {}
      },
      "source": [
        "#Regression of D on X1-4 to determine residuals\n",
        "y3 = data.D\n",
        "X3 = data[['x1', 'x2', 'x3', 'x4']]\n",
        "X3 = sm.add_constant(X3)\n",
        "model = sm.OLS(y3,X3)\n",
        "results = model.fit()"
      ],
      "execution_count": 72,
      "outputs": []
    },
    {
      "cell_type": "code",
      "metadata": {
        "id": "S584B9r5b63n",
        "colab_type": "code",
        "colab": {}
      },
      "source": [
        "y_hat = model.predict(results.params,X3)\n",
        "D_residuals = y3 - y_hat"
      ],
      "execution_count": 73,
      "outputs": []
    },
    {
      "cell_type": "code",
      "metadata": {
        "id": "VfbYvzaOum1T",
        "colab_type": "code",
        "colab": {
          "base_uri": "https://localhost:8080/",
          "height": 72
        },
        "outputId": "2aaebec2-33a2-41af-e3f4-d1adef39dec6"
      },
      "source": [
        "#Covariance between y and D (orthogonal part)\n",
        "cov = np.sum((data.y - data.y.mean())*(D_residuals - D_residuals.mean()))/len(data.y)\n",
        "#Variance of D (orthogonal part)\n",
        "var = np.sum((D_residuals - D_residuals.mean())**2)/len(D_residuals)\n",
        "print(\"Covariance:\", cov)\n",
        "print(\"Variance:\", var)\n",
        "print(\"Covariance between Y and the orthogonal component of D over the variance of the orthogonal component of D:\", cov / var)"
      ],
      "execution_count": 21,
      "outputs": [
        {
          "output_type": "stream",
          "text": [
            "Covariance: 0.015265775234455563\n",
            "Variance: 0.2191125812918013\n",
            "Covariance between Y and the orthogonal component of D over the variance of the orthogonal component of D: 0.0696709205124351\n"
          ],
          "name": "stdout"
        }
      ]
    },
    {
      "cell_type": "markdown",
      "metadata": {
        "id": "lKWUFNdjol_h",
        "colab_type": "text"
      },
      "source": [
        "\n",
        "\n",
        "---\n",
        "\n"
      ]
    },
    {
      "cell_type": "markdown",
      "metadata": {
        "id": "1pFY6P23Cp9H",
        "colab_type": "text"
      },
      "source": [
        "**2.ii.**"
      ]
    },
    {
      "cell_type": "code",
      "metadata": {
        "id": "rLuEU3oo2hQl",
        "colab_type": "code",
        "colab": {
          "base_uri": "https://localhost:8080/",
          "height": 553
        },
        "outputId": "ba67a94f-4a01-46cb-b9e5-457b3209a05e"
      },
      "source": [
        "X4 = X3\n",
        "X4['D(residual)'] = D_residuals\n",
        "model = sm.OLS(y,X4)\n",
        "results = model.fit()\n",
        "print(results.summary())"
      ],
      "execution_count": 22,
      "outputs": [
        {
          "output_type": "stream",
          "text": [
            "                            OLS Regression Results                            \n",
            "==============================================================================\n",
            "Dep. Variable:                      y   R-squared:                       0.249\n",
            "Model:                            OLS   Adj. R-squared:                  0.232\n",
            "Method:                 Least Squares   F-statistic:                     14.86\n",
            "Date:                Mon, 06 Jul 2020   Prob (F-statistic):           1.37e-12\n",
            "Time:                        09:36:54   Log-Likelihood:                -12.943\n",
            "No. Observations:                 230   AIC:                             37.89\n",
            "Df Residuals:                     224   BIC:                             58.51\n",
            "Df Model:                           5                                         \n",
            "Covariance Type:            nonrobust                                         \n",
            "===============================================================================\n",
            "                  coef    std err          t      P>|t|      [0.025      0.975]\n",
            "-------------------------------------------------------------------------------\n",
            "const           0.0125      0.121      0.103      0.918      -0.227       0.252\n",
            "x1              0.0824      0.020      4.224      0.000       0.044       0.121\n",
            "x2             -0.0092      0.021     -0.445      0.657      -0.050       0.031\n",
            "x3              0.0659      0.017      3.875      0.000       0.032       0.099\n",
            "x4              0.1099      0.018      6.061      0.000       0.074       0.146\n",
            "D(residual)     0.0697      0.037      1.907      0.058      -0.002       0.142\n",
            "==============================================================================\n",
            "Omnibus:                        2.375   Durbin-Watson:                   0.870\n",
            "Prob(Omnibus):                  0.305   Jarque-Bera (JB):                2.342\n",
            "Skew:                           0.043   Prob(JB):                        0.310\n",
            "Kurtosis:                       3.487   Cond. No.                         54.6\n",
            "==============================================================================\n",
            "\n",
            "Warnings:\n",
            "[1] Standard Errors assume that the covariance matrix of the errors is correctly specified.\n"
          ],
          "name": "stdout"
        }
      ]
    },
    {
      "cell_type": "markdown",
      "metadata": {
        "id": "SmTKeimEfjku",
        "colab_type": "text"
      },
      "source": [
        "The coefficients are nearly the same as in 2. \n",
        "Differences maybe due to implementation of the regression in Python?"
      ]
    },
    {
      "cell_type": "markdown",
      "metadata": {
        "id": "D9IMmEQnojfK",
        "colab_type": "text"
      },
      "source": [
        "\n",
        "\n",
        "---\n",
        "\n"
      ]
    },
    {
      "cell_type": "markdown",
      "metadata": {
        "id": "DEM6t5F1gf08",
        "colab_type": "text"
      },
      "source": [
        "**2.iii.**"
      ]
    },
    {
      "cell_type": "code",
      "metadata": {
        "id": "kyxNtuwfgiAQ",
        "colab_type": "code",
        "colab": {}
      },
      "source": [
        "X5 = pd.DataFrame()\n",
        "for variable in ['D', 'x1', 'x2', 'x3', 'x4']:\n",
        "  X = data[['D', 'x1', 'x2', 'x3', 'x4']]\n",
        "  X = X.drop(columns = variable)\n",
        "  y_buffer = data[[variable]]\n",
        "  X = sm.add_constant(X)\n",
        "  model = sm.OLS(y_buffer,X)\n",
        "  results = model.fit()\n",
        "  y_hat = model.predict(results.params,X)\n",
        "  residual = y_buffer.squeeze() - y_hat\n",
        "  X5[variable] = residual\n",
        "  del X, y_hat, y_buffer, residual, model, results"
      ],
      "execution_count": 62,
      "outputs": []
    },
    {
      "cell_type": "code",
      "metadata": {
        "id": "5mF-CRaYgsCL",
        "colab_type": "code",
        "colab": {
          "base_uri": "https://localhost:8080/",
          "height": 535
        },
        "outputId": "82ef1205-ac46-4ad4-ccbf-9d7543b35f35"
      },
      "source": [
        "model = sm.OLS(y,X5)\n",
        "results = model.fit()\n",
        "print(results.summary())"
      ],
      "execution_count": 63,
      "outputs": [
        {
          "output_type": "stream",
          "text": [
            "                                 OLS Regression Results                                \n",
            "=======================================================================================\n",
            "Dep. Variable:                      y   R-squared (uncentered):                   0.030\n",
            "Model:                            OLS   Adj. R-squared (uncentered):              0.009\n",
            "Method:                 Least Squares   F-statistic:                              1.409\n",
            "Date:                Mon, 06 Jul 2020   Prob (F-statistic):                       0.222\n",
            "Time:                        10:04:02   Log-Likelihood:                         -284.34\n",
            "No. Observations:                 230   AIC:                                      578.7\n",
            "Df Residuals:                     225   BIC:                                      595.9\n",
            "Df Model:                           5                                                  \n",
            "Covariance Type:            nonrobust                                                  \n",
            "==============================================================================\n",
            "                 coef    std err          t      P>|t|      [0.025      0.975]\n",
            "------------------------------------------------------------------------------\n",
            "D              0.0824      0.120      0.685      0.494      -0.155       0.320\n",
            "x1             0.0359      0.069      0.517      0.606      -0.101       0.173\n",
            "x2             0.0632      0.080      0.788      0.431      -0.095       0.221\n",
            "x3             0.0806      0.056      1.447      0.149      -0.029       0.190\n",
            "x4             0.1393      0.076      1.841      0.067      -0.010       0.288\n",
            "==============================================================================\n",
            "Omnibus:                        2.375   Durbin-Watson:                   0.082\n",
            "Prob(Omnibus):                  0.305   Jarque-Bera (JB):                2.342\n",
            "Skew:                           0.043   Prob(JB):                        0.310\n",
            "Kurtosis:                       3.487   Cond. No.                         2.53\n",
            "==============================================================================\n",
            "\n",
            "Warnings:\n",
            "[1] Standard Errors assume that the covariance matrix of the errors is correctly specified.\n"
          ],
          "name": "stdout"
        }
      ]
    },
    {
      "cell_type": "markdown",
      "metadata": {
        "id": "odysXO6PlwHz",
        "colab_type": "text"
      },
      "source": [
        "Not sure if I implemented this correctly but the coefficients changed quite a bit\n",
        "\n",
        "\n"
      ]
    },
    {
      "cell_type": "markdown",
      "metadata": {
        "id": "tkPQcIRIohNW",
        "colab_type": "text"
      },
      "source": [
        "\n",
        "\n",
        "---\n",
        "\n"
      ]
    },
    {
      "cell_type": "markdown",
      "metadata": {
        "id": "CF5lyloCmfNM",
        "colab_type": "text"
      },
      "source": [
        "**2.iv.** "
      ]
    },
    {
      "cell_type": "markdown",
      "metadata": {
        "id": "9_-ugNusmjsh",
        "colab_type": "text"
      },
      "source": [
        "Given that my coefficients changed when I regressed on the independent parts of the independent variables I would tend to go with the normal regression."
      ]
    },
    {
      "cell_type": "markdown",
      "metadata": {
        "id": "569zDCuOocvb",
        "colab_type": "text"
      },
      "source": [
        "\n",
        "\n",
        "---\n",
        "\n"
      ]
    },
    {
      "cell_type": "markdown",
      "metadata": {
        "id": "CTeyp3dQoUTH",
        "colab_type": "text"
      },
      "source": [
        "**3**"
      ]
    },
    {
      "cell_type": "code",
      "metadata": {
        "id": "E3SWf6-qpbgM",
        "colab_type": "code",
        "colab": {
          "base_uri": "https://localhost:8080/",
          "height": 738
        },
        "outputId": "a31a6667-e147-4d9f-d643-8e1522cc75ec"
      },
      "source": [
        "X = pd.get_dummies(data, columns=['industry'], prefix='ind_', drop_first=True)\n",
        "X = X.drop(columns='y')\n",
        "X = sm.add_constant(X)\n",
        "model = sm.OLS(y,X)\n",
        "results = model.fit()\n",
        "print(results.summary())"
      ],
      "execution_count": 75,
      "outputs": [
        {
          "output_type": "stream",
          "text": [
            "                            OLS Regression Results                            \n",
            "==============================================================================\n",
            "Dep. Variable:                      y   R-squared:                       0.320\n",
            "Model:                            OLS   Adj. R-squared:                  0.272\n",
            "Method:                 Least Squares   F-statistic:                     6.707\n",
            "Date:                Mon, 06 Jul 2020   Prob (F-statistic):           8.89e-12\n",
            "Time:                        10:39:53   Log-Likelihood:                -1.5675\n",
            "No. Observations:                 230   AIC:                             35.14\n",
            "Df Residuals:                     214   BIC:                             90.14\n",
            "Df Model:                          15                                         \n",
            "Covariance Type:            nonrobust                                         \n",
            "==============================================================================\n",
            "                 coef    std err          t      P>|t|      [0.025      0.975]\n",
            "------------------------------------------------------------------------------\n",
            "const         -0.1237      0.142     -0.871      0.385      -0.404       0.156\n",
            "x1             0.0570      0.028      2.059      0.041       0.002       0.112\n",
            "x2            -0.0046      0.021     -0.222      0.825      -0.046       0.036\n",
            "x3             0.0815      0.018      4.577      0.000       0.046       0.117\n",
            "x4             0.1168      0.020      5.833      0.000       0.077       0.156\n",
            "D              0.0943      0.038      2.467      0.014       0.019       0.170\n",
            "ind__2        -0.0036      0.108     -0.033      0.973      -0.216       0.209\n",
            "ind__3        -0.0050      0.105     -0.047      0.962      -0.212       0.202\n",
            "ind__4         0.2080      0.201      1.033      0.303      -0.189       0.605\n",
            "ind__5        -0.2315      0.271     -0.856      0.393      -0.765       0.302\n",
            "ind__6         0.4956      0.159      3.125      0.002       0.183       0.808\n",
            "ind__7         0.0251      0.100      0.250      0.803      -0.173       0.223\n",
            "ind__8         0.1145      0.122      0.938      0.349      -0.126       0.355\n",
            "ind__9        -0.1171      0.126     -0.933      0.352      -0.365       0.130\n",
            "ind__10        0.0969      0.100      0.968      0.334      -0.100       0.294\n",
            "ind__11        0.0815      0.115      0.708      0.480      -0.145       0.308\n",
            "==============================================================================\n",
            "Omnibus:                        2.122   Durbin-Watson:                   0.880\n",
            "Prob(Omnibus):                  0.346   Jarque-Bera (JB):                1.903\n",
            "Skew:                           0.092   Prob(JB):                        0.386\n",
            "Kurtosis:                       3.406   Cond. No.                         150.\n",
            "==============================================================================\n",
            "\n",
            "Warnings:\n",
            "[1] Standard Errors assume that the covariance matrix of the errors is correctly specified.\n"
          ],
          "name": "stdout"
        }
      ]
    },
    {
      "cell_type": "markdown",
      "metadata": {
        "id": "pG2h7s2cr7hy",
        "colab_type": "text"
      },
      "source": [
        "The difference actually becomes larger: 0.094 vs 0.07 (when controlling for x1-4) vs 0.08 (when not controlling for any other independent variables)"
      ]
    },
    {
      "cell_type": "markdown",
      "metadata": {
        "id": "vfb4dMOotIs8",
        "colab_type": "text"
      },
      "source": [
        "\n",
        "\n",
        "---\n",
        "\n"
      ]
    },
    {
      "cell_type": "markdown",
      "metadata": {
        "id": "qKTjTetltDjG",
        "colab_type": "text"
      },
      "source": [
        "**4**"
      ]
    },
    {
      "cell_type": "code",
      "metadata": {
        "id": "lFhAYtIjtHnX",
        "colab_type": "code",
        "colab": {}
      },
      "source": [
        "y_hat = model.predict(results.params,X)\n",
        "residuals = y - y_hat"
      ],
      "execution_count": 76,
      "outputs": []
    },
    {
      "cell_type": "code",
      "metadata": {
        "id": "ddeOcKWytYu8",
        "colab_type": "code",
        "colab": {}
      },
      "source": [
        "X['residuals'] = residuals"
      ],
      "execution_count": 85,
      "outputs": []
    },
    {
      "cell_type": "code",
      "metadata": {
        "id": "niEdcA3stmJJ",
        "colab_type": "code",
        "colab": {
          "base_uri": "https://localhost:8080/",
          "height": 297
        },
        "outputId": "609a2c3a-d7ba-4ff7-feaf-c593de5b4ce7"
      },
      "source": [
        "sns.distplot(X[X['D'] == 1].residuals)\n",
        "sns.distplot(X[X['D'] == 0].residuals)"
      ],
      "execution_count": 93,
      "outputs": [
        {
          "output_type": "execute_result",
          "data": {
            "text/plain": [
              "<matplotlib.axes._subplots.AxesSubplot at 0x7f51ba405dd8>"
            ]
          },
          "metadata": {
            "tags": []
          },
          "execution_count": 93
        },
        {
          "output_type": "display_data",
          "data": {
            "image/png": "[encoded data removed]",
            "text/plain": [
              "<Figure size 432x288 with 1 Axes>"
            ]
          },
          "metadata": {
            "tags": [],
            "needs_background": "light"
          }
        }
      ]
    },
    {
      "cell_type": "code",
      "metadata": {
        "id": "sDO1OOBcuEgz",
        "colab_type": "code",
        "colab": {
          "base_uri": "https://localhost:8080/",
          "height": 297
        },
        "outputId": "37d73e4a-21f1-474a-9f2f-8b6c1ddd90a7"
      },
      "source": [
        "sns.scatterplot(x='D', y='y', data=data)"
      ],
      "execution_count": 97,
      "outputs": [
        {
          "output_type": "execute_result",
          "data": {
            "text/plain": [
              "<matplotlib.axes._subplots.AxesSubplot at 0x7f51ba29bcf8>"
            ]
          },
          "metadata": {
            "tags": []
          },
          "execution_count": 97
        },
        {
          "output_type": "display_data",
          "data": {
            "image/png": "[encoded data removed]",
            "text/plain": [
              "<Figure size 432x288 with 1 Axes>"
            ]
          },
          "metadata": {
            "tags": [],
            "needs_background": "light"
          }
        }
      ]
    },
    {
      "cell_type": "code",
      "metadata": {
        "id": "ocaWwZGkvT1r",
        "colab_type": "code",
        "colab": {
          "base_uri": "https://localhost:8080/",
          "height": 297
        },
        "outputId": "18e99e81-1837-4e46-807a-95434c6d8dc1"
      },
      "source": [
        "sns.scatterplot(x='x1', y='y', data=data)"
      ],
      "execution_count": 102,
      "outputs": [
        {
          "output_type": "execute_result",
          "data": {
            "text/plain": [
              "<matplotlib.axes._subplots.AxesSubplot at 0x7f51ba1adda0>"
            ]
          },
          "metadata": {
            "tags": []
          },
          "execution_count": 102
        },
        {
          "output_type": "display_data",
          "data": {
            "image/png": "[encoded data removed]",
            "text/plain": [
              "<Figure size 432x288 with 1 Axes>"
            ]
          },
          "metadata": {
            "tags": [],
            "needs_background": "light"
          }
        }
      ]
    },
    {
      "cell_type": "code",
      "metadata": {
        "id": "Tv5x2yg27J8f",
        "colab_type": "code",
        "colab": {
          "base_uri": "https://localhost:8080/",
          "height": 297
        },
        "outputId": "01dc2519-ca37-4f53-f17a-7333e3f3cd09"
      },
      "source": [
        "sns.scatterplot(x='x2', y='y', data=data)"
      ],
      "execution_count": 103,
      "outputs": [
        {
          "output_type": "execute_result",
          "data": {
            "text/plain": [
              "<matplotlib.axes._subplots.AxesSubplot at 0x7f51b9ff1d30>"
            ]
          },
          "metadata": {
            "tags": []
          },
          "execution_count": 103
        },
        {
          "output_type": "display_data",
          "data": {
            "image/png": "[encoded data removed]",
            "text/plain": [
              "<Figure size 432x288 with 1 Axes>"
            ]
          },
          "metadata": {
            "tags": [],
            "needs_background": "light"
          }
        }
      ]
    },
    {
      "cell_type": "code",
      "metadata": {
        "id": "2R5KKzWkxahM",
        "colab_type": "code",
        "colab": {
          "base_uri": "https://localhost:8080/",
          "height": 297
        },
        "outputId": "077ed951-41af-40f1-aba1-18f72b9210de"
      },
      "source": [
        "sns.scatterplot(x='x3', y='y', data=data)"
      ],
      "execution_count": 100,
      "outputs": [
        {
          "output_type": "execute_result",
          "data": {
            "text/plain": [
              "<matplotlib.axes._subplots.AxesSubplot at 0x7f51ba1ad9b0>"
            ]
          },
          "metadata": {
            "tags": []
          },
          "execution_count": 100
        },
        {
          "output_type": "display_data",
          "data": {
            "image/png": "[encoded data removed]",
            "text/plain": [
              "<Figure size 432x288 with 1 Axes>"
            ]
          },
          "metadata": {
            "tags": [],
            "needs_background": "light"
          }
        }
      ]
    },
    {
      "cell_type": "markdown",
      "metadata": {
        "id": "r_htil7zDVJp",
        "colab_type": "text"
      },
      "source": [
        "This distribution could indicate heteroskedasticity"
      ]
    },
    {
      "cell_type": "code",
      "metadata": {
        "id": "jxE2uvyVxfj6",
        "colab_type": "code",
        "colab": {
          "base_uri": "https://localhost:8080/",
          "height": 297
        },
        "outputId": "b2636693-a40e-4cb8-a584-326c5d4a5739"
      },
      "source": [
        "sns.scatterplot(x='x4', y='y', data=data)"
      ],
      "execution_count": 104,
      "outputs": [
        {
          "output_type": "execute_result",
          "data": {
            "text/plain": [
              "<matplotlib.axes._subplots.AxesSubplot at 0x7f51b9fd3748>"
            ]
          },
          "metadata": {
            "tags": []
          },
          "execution_count": 104
        },
        {
          "output_type": "display_data",
          "data": {
            "image/png": "[encoded data removed]",
            "text/plain": [
              "<Figure size 432x288 with 1 Axes>"
            ]
          },
          "metadata": {
            "tags": [],
            "needs_background": "light"
          }
        }
      ]
    },
    {
      "cell_type": "code",
      "metadata": {
        "id": "Uh7a6NyE7MuA",
        "colab_type": "code",
        "colab": {
          "base_uri": "https://localhost:8080/",
          "height": 645
        },
        "outputId": "e41de189-f40b-4e6a-82b0-2e07d6708ee6"
      },
      "source": [
        "#Robust standard errors (H1 covariance)\n",
        "X = pd.get_dummies(data, columns=['industry'], prefix='ind_', drop_first=True)\n",
        "X = X.drop(columns='y')\n",
        "X = sm.add_constant(X)\n",
        "model = sm.RLM(y,X)\n",
        "results = model.fit()\n",
        "print(results.summary())"
      ],
      "execution_count": 107,
      "outputs": [
        {
          "output_type": "stream",
          "text": [
            "                    Robust linear Model Regression Results                    \n",
            "==============================================================================\n",
            "Dep. Variable:                      y   No. Observations:                  230\n",
            "Model:                            RLM   Df Residuals:                      214\n",
            "Method:                          IRLS   Df Model:                           15\n",
            "Norm:                          HuberT                                         \n",
            "Scale Est.:                       mad                                         \n",
            "Cov Type:                          H1                                         \n",
            "Date:                Mon, 06 Jul 2020                                         \n",
            "Time:                        11:57:53                                         \n",
            "No. Iterations:                    38                                         \n",
            "==============================================================================\n",
            "                 coef    std err          z      P>|z|      [0.025      0.975]\n",
            "------------------------------------------------------------------------------\n",
            "const         -0.0924      0.121     -0.760      0.447      -0.330       0.146\n",
            "x1             0.0453      0.024      1.912      0.056      -0.001       0.092\n",
            "x2            -0.0093      0.018     -0.521      0.603      -0.044       0.026\n",
            "x3             0.0693      0.015      4.547      0.000       0.039       0.099\n",
            "x4             0.1105      0.017      6.448      0.000       0.077       0.144\n",
            "D              0.1022      0.033      3.124      0.002       0.038       0.166\n",
            "ind__2         0.0243      0.092      0.263      0.793      -0.157       0.205\n",
            "ind__3         0.0366      0.090      0.407      0.684      -0.140       0.213\n",
            "ind__4         0.2245      0.172      1.303      0.192      -0.113       0.562\n",
            "ind__5        -0.2090      0.231     -0.903      0.366      -0.663       0.245\n",
            "ind__6         0.5062      0.136      3.731      0.000       0.240       0.772\n",
            "ind__7         0.0437      0.086      0.509      0.611      -0.125       0.212\n",
            "ind__8         0.1315      0.104      1.260      0.208      -0.073       0.336\n",
            "ind__9        -0.1078      0.107     -1.004      0.315      -0.318       0.103\n",
            "ind__10        0.0445      0.086      0.520      0.603      -0.123       0.212\n",
            "ind__11        0.1338      0.098      1.359      0.174      -0.059       0.327\n",
            "==============================================================================\n",
            "\n",
            "If the model instance has been used for another fit with different fit\n",
            "parameters, then the fit options might not be the correct ones anymore .\n"
          ],
          "name": "stdout"
        }
      ]
    },
    {
      "cell_type": "code",
      "metadata": {
        "id": "q_6PLHpvAIni",
        "colab_type": "code",
        "colab": {
          "base_uri": "https://localhost:8080/",
          "height": 645
        },
        "outputId": "3f4aa522-2bec-4a4a-b2b8-c7dae9a9929f"
      },
      "source": [
        "#Robust standard errors (H2 covariance)\n",
        "model = sm.RLM(y,X)\n",
        "results = model.fit(cov='H2')\n",
        "print(results.summary())"
      ],
      "execution_count": 111,
      "outputs": [
        {
          "output_type": "stream",
          "text": [
            "                    Robust linear Model Regression Results                    \n",
            "==============================================================================\n",
            "Dep. Variable:                      y   No. Observations:                  230\n",
            "Model:                            RLM   Df Residuals:                      214\n",
            "Method:                          IRLS   Df Model:                           15\n",
            "Norm:                          HuberT                                         \n",
            "Scale Est.:                       mad                                         \n",
            "Cov Type:                          H2                                         \n",
            "Date:                Mon, 06 Jul 2020                                         \n",
            "Time:                        12:02:53                                         \n",
            "No. Iterations:                    38                                         \n",
            "==============================================================================\n",
            "                 coef    std err          z      P>|z|      [0.025      0.975]\n",
            "------------------------------------------------------------------------------\n",
            "const         -0.0924      0.111     -0.831      0.406      -0.310       0.125\n",
            "x1             0.0453      0.025      1.786      0.074      -0.004       0.095\n",
            "x2            -0.0093      0.017     -0.545      0.586      -0.043       0.024\n",
            "x3             0.0693      0.016      4.352      0.000       0.038       0.100\n",
            "x4             0.1105      0.016      6.821      0.000       0.079       0.142\n",
            "D              0.1022      0.032      3.192      0.001       0.039       0.165\n",
            "ind__2         0.0243      0.086      0.283      0.777      -0.144       0.192\n",
            "ind__3         0.0366      0.093      0.395      0.693      -0.145       0.218\n",
            "ind__4         0.2245      0.145      1.548      0.122      -0.060       0.509\n",
            "ind__5        -0.2090      0.195     -1.070      0.285      -0.592       0.174\n",
            "ind__6         0.5062      0.119      4.260      0.000       0.273       0.739\n",
            "ind__7         0.0437      0.074      0.592      0.554      -0.101       0.188\n",
            "ind__8         0.1315      0.089      1.486      0.137      -0.042       0.305\n",
            "ind__9        -0.1078      0.093     -1.155      0.248      -0.291       0.075\n",
            "ind__10        0.0445      0.074      0.603      0.546      -0.100       0.189\n",
            "ind__11        0.1338      0.086      1.556      0.120      -0.035       0.302\n",
            "==============================================================================\n",
            "\n",
            "If the model instance has been used for another fit with different fit\n",
            "parameters, then the fit options might not be the correct ones anymore .\n"
          ],
          "name": "stdout"
        }
      ]
    },
    {
      "cell_type": "code",
      "metadata": {
        "id": "xOOWTdD4AhLb",
        "colab_type": "code",
        "colab": {
          "base_uri": "https://localhost:8080/",
          "height": 645
        },
        "outputId": "192a6052-825b-4071-df00-73e1ae634d20"
      },
      "source": [
        "#Robust standard errors (H3 covariance)\n",
        "model = sm.RLM(y,X)\n",
        "results = model.fit(cov='H3')\n",
        "print(results.summary())"
      ],
      "execution_count": 112,
      "outputs": [
        {
          "output_type": "stream",
          "text": [
            "                    Robust linear Model Regression Results                    \n",
            "==============================================================================\n",
            "Dep. Variable:                      y   No. Observations:                  230\n",
            "Model:                            RLM   Df Residuals:                      214\n",
            "Method:                          IRLS   Df Model:                           15\n",
            "Norm:                          HuberT                                         \n",
            "Scale Est.:                       mad                                         \n",
            "Cov Type:                          H3                                         \n",
            "Date:                Mon, 06 Jul 2020                                         \n",
            "Time:                        12:03:06                                         \n",
            "No. Iterations:                    38                                         \n",
            "==============================================================================\n",
            "                 coef    std err          z      P>|z|      [0.025      0.975]\n",
            "------------------------------------------------------------------------------\n",
            "const         -0.0924      0.103     -0.900      0.368      -0.294       0.109\n",
            "x1             0.0453      0.028      1.605      0.109      -0.010       0.101\n",
            "x2            -0.0093      0.017     -0.558      0.577      -0.042       0.023\n",
            "x3             0.0693      0.017      4.111      0.000       0.036       0.102\n",
            "x4             0.1105      0.015      7.136      0.000       0.080       0.141\n",
            "D              0.1022      0.032      3.231      0.001       0.040       0.164\n",
            "ind__2         0.0243      0.083      0.294      0.769      -0.138       0.186\n",
            "ind__3         0.0366      0.111      0.331      0.741      -0.180       0.253\n",
            "ind__4         0.2245      0.121      1.858      0.063      -0.012       0.461\n",
            "ind__5        -0.2090      0.164     -1.277      0.202      -0.530       0.112\n",
            "ind__6         0.5062      0.106      4.787      0.000       0.299       0.713\n",
            "ind__7         0.0437      0.064      0.687      0.492      -0.081       0.168\n",
            "ind__8         0.1315      0.075      1.758      0.079      -0.015       0.278\n",
            "ind__9        -0.1078      0.081     -1.337      0.181      -0.266       0.050\n",
            "ind__10        0.0445      0.063      0.704      0.481      -0.079       0.168\n",
            "ind__11        0.1338      0.075      1.787      0.074      -0.013       0.281\n",
            "==============================================================================\n",
            "\n",
            "If the model instance has been used for another fit with different fit\n",
            "parameters, then the fit options might not be the correct ones anymore .\n"
          ],
          "name": "stdout"
        }
      ]
    },
    {
      "cell_type": "code",
      "metadata": {
        "id": "8bqHVWOL7kdd",
        "colab_type": "code",
        "colab": {
          "base_uri": "https://localhost:8080/",
          "height": 775
        },
        "outputId": "86a727c5-e464-41e2-db2a-b33e2c0cfe67"
      },
      "source": [
        "#Standard errors clustered based on industry\n",
        "model = sm.OLS(y,X)\n",
        "results = model.fit(cov_type = 'cluster',\n",
        "               cov_kwds = {'groups': data['industry']})\n",
        "print(results.summary())"
      ],
      "execution_count": 108,
      "outputs": [
        {
          "output_type": "stream",
          "text": [
            "                            OLS Regression Results                            \n",
            "==============================================================================\n",
            "Dep. Variable:                      y   R-squared:                       0.320\n",
            "Model:                            OLS   Adj. R-squared:                  0.272\n",
            "Method:                 Least Squares   F-statistic:                     56.90\n",
            "Date:                Mon, 06 Jul 2020   Prob (F-statistic):           5.07e-07\n",
            "Time:                        11:58:01   Log-Likelihood:                -1.5675\n",
            "No. Observations:                 230   AIC:                             35.14\n",
            "Df Residuals:                     214   BIC:                             90.14\n",
            "Df Model:                          15                                         \n",
            "Covariance Type:              cluster                                         \n",
            "==============================================================================\n",
            "                 coef    std err          z      P>|z|      [0.025      0.975]\n",
            "------------------------------------------------------------------------------\n",
            "const         -0.1237      0.076     -1.637      0.102      -0.272       0.024\n",
            "x1             0.0570      0.042      1.351      0.177      -0.026       0.140\n",
            "x2            -0.0046      0.038     -0.122      0.903      -0.079       0.069\n",
            "x3             0.0815      0.027      3.045      0.002       0.029       0.134\n",
            "x4             0.1168      0.014      8.386      0.000       0.090       0.144\n",
            "D              0.0943      0.060      1.566      0.117      -0.024       0.212\n",
            "ind__2        -0.0036      0.061     -0.059      0.953      -0.123       0.115\n",
            "ind__3        -0.0050      0.026     -0.193      0.847      -0.055       0.045\n",
            "ind__4         0.2080      0.054      3.865      0.000       0.103       0.314\n",
            "ind__5        -0.2315      0.050     -4.610      0.000      -0.330      -0.133\n",
            "ind__6         0.4956      0.093      5.345      0.000       0.314       0.677\n",
            "ind__7         0.0251      0.037      0.684      0.494      -0.047       0.097\n",
            "ind__8         0.1145      0.043      2.675      0.007       0.031       0.198\n",
            "ind__9        -0.1171      0.025     -4.640      0.000      -0.167      -0.068\n",
            "ind__10        0.0969      0.038      2.555      0.011       0.023       0.171\n",
            "ind__11        0.0815      0.086      0.953      0.341      -0.086       0.249\n",
            "==============================================================================\n",
            "Omnibus:                        2.122   Durbin-Watson:                   0.880\n",
            "Prob(Omnibus):                  0.346   Jarque-Bera (JB):                1.903\n",
            "Skew:                           0.092   Prob(JB):                        0.386\n",
            "Kurtosis:                       3.406   Cond. No.                         150.\n",
            "==============================================================================\n",
            "\n",
            "Warnings:\n",
            "[1] Standard Errors are robust to cluster correlation (cluster)\n"
          ],
          "name": "stdout"
        },
        {
          "output_type": "stream",
          "text": [
            "/usr/local/lib/python3.6/dist-packages/statsmodels/base/model.py:1752: ValueWarning: covariance of constraints does not have full rank. The number of constraints is 15, but rank is 5\n",
            "  'rank is %d' % (J, J_), ValueWarning)\n"
          ],
          "name": "stderr"
        }
      ]
    },
    {
      "cell_type": "markdown",
      "metadata": {
        "id": "E3wXxZDfD6qu",
        "colab_type": "text"
      },
      "source": [
        "The clustered standard errors for D are the highest and therefore the most conservative. Based on these standard errors the coefficient of D has a p-value of 0.117"
      ]
    },
    {
      "cell_type": "code",
      "metadata": {
        "id": "vP1rOqZCEX5J",
        "colab_type": "code",
        "colab": {}
      },
      "source": [
        ""
      ],
      "execution_count": null,
      "outputs": []
    }
  ]
}